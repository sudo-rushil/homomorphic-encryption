{
 "cells": [
  {
   "cell_type": "code",
   "execution_count": 1,
   "id": "2382da6f",
   "metadata": {},
   "outputs": [],
   "source": [
    "import math\n",
    "import numpy as np\n",
    "import random"
   ]
  },
  {
   "cell_type": "markdown",
   "id": "7cbda3ed",
   "metadata": {},
   "source": [
    "# RSA\n",
    "\n",
    "- RSA_setup(p,q):\n",
    "- RSA_encrypt(m,e):\n",
    "- RSA_decrypt(M,d):"
   ]
  },
  {
   "cell_type": "code",
   "execution_count": 2,
   "id": "20ab4c44",
   "metadata": {},
   "outputs": [],
   "source": [
    "def _ext_euc_alg(a, b):\n",
    "    '''\n",
    "    Performs Extended Euclidean Algorithm on two integers\n",
    "\n",
    "            Parameters:\n",
    "                    a : An integer\n",
    "                    b : Another integer\n",
    "\n",
    "            Returns:\n",
    "                    (gcd, x, y) : tuple of GCD of (a,b) and (x,y) orthogonal to (a,b)\n",
    "    '''\n",
    "    if a == 0:\n",
    "        return b, 0, 1\n",
    "             \n",
    "    gcd,x1,y1 = _ext_euc_alg(b % a, a) \n",
    "     \n",
    "    # Update x and y using results of recursive call \n",
    "    x = y1 - (b // a) * x1 \n",
    "    y = x1 \n",
    "     \n",
    "    return gcd,x,y\n",
    "\n",
    "def _inv_mult(a, m):\n",
    "    '''\n",
    "    Find modular inverses using EEA\n",
    "\n",
    "            Parameters:\n",
    "                    a : Inverse to be found\n",
    "                    m : Modulus – must have (a, m) == 1\n",
    "\n",
    "            Returns:\n",
    "                    inv : Modular inverse of a mod m\n",
    "    '''\n",
    "    gcd, x, _ = _ext_euc_alg(a, m)\n",
    "    \n",
    "    if gcd == 1:\n",
    "        return (x + m) % m\n",
    "    \n",
    "\n",
    "def _mod_pow(a, e, m):\n",
    "    '''\n",
    "    Compute modular exponentation under modular arithmetic\n",
    "    \n",
    "            Parameters:\n",
    "                    a : Base\n",
    "                    e : Exponent\n",
    "                    m : Modulus\n",
    "            \n",
    "            Returns:\n",
    "                    b : Value of a^e % m\n",
    "    '''\n",
    "    a, b = a % m, 1\n",
    "    \n",
    "    if a == 0: return 0\n",
    "    \n",
    "    while e > 0:\n",
    "        if (e & 1) == 1:\n",
    "            b = (a * b) % m\n",
    "        \n",
    "        e >>= 1\n",
    "        a = (a * a) % m\n",
    "    \n",
    "    return b\n",
    "\n",
    "\n",
    "def RSA_setup(p,q):\n",
    "    '''\n",
    "    Sets up parameters for RSA algorithm\n",
    "\n",
    "            Parameters:\n",
    "                    p : Large prime\n",
    "                    q : Another large prime\n",
    "\n",
    "            Returns:\n",
    "                    (n, e, d) : RSA modulus, public key, and private key\n",
    "    '''\n",
    "    n = p * q\n",
    "    phi_n = (p - 1) * (q - 1)\n",
    "    \n",
    "    # select public key s.t. (e, phi_n) == 1\n",
    "    found = False\n",
    "    \n",
    "    while not found:\n",
    "        e = random.randint(1, phi_n)\n",
    "        if math.gcd(e, phi_n) == 1:\n",
    "            found = True\n",
    "    \n",
    "    d = _inv_mult(e, phi_n)\n",
    "    \n",
    "    return n, e, d\n",
    "\n",
    "\n",
    "def RSA_encrypt(m, e, n):\n",
    "    '''\n",
    "    Encrypts messages with RSA algorithm\n",
    "\n",
    "            Parameters:\n",
    "                    m : Integer representation of message – must be between 1 and n\n",
    "                    e : Public key – selected as per RSA_setup\n",
    "                    n : Modulus – selected as per RSA_setup\n",
    "\n",
    "            Returns:\n",
    "                    M : Encrypted message\n",
    "    '''\n",
    "    return _mod_pow(m, e, n)\n",
    "\n",
    "\n",
    "def RSA_decrypt(M, d, n):\n",
    "    '''\n",
    "    Decrypts messages with RSA algorithm\n",
    "\n",
    "            Parameters:\n",
    "                    M : Encrypted message – calculated as per RSA_encrypt\n",
    "                    d : Private key – selected as per RSA_setup\n",
    "                    n : Modulus – selected as per RSA_setup\n",
    "\n",
    "            Returns:\n",
    "                    m : Plaintext message\n",
    "    '''\n",
    "    return _mod_pow(M, d, n)"
   ]
  },
  {
   "cell_type": "code",
   "execution_count": 3,
   "id": "c04345b8",
   "metadata": {},
   "outputs": [
    {
     "name": "stdout",
     "output_type": "stream",
     "text": [
      "Public Key: 247\n",
      "Private Key: 7\n",
      "\n",
      "Encrypted Message: 196\n",
      "Decrypted Message: 104\n"
     ]
    }
   ],
   "source": [
    "n, e, d = RSA_setup(17,19) # n = 323\n",
    "print(f\"Public Key: {e}\\nPrivate Key: {d}\\n\")\n",
    "\n",
    "m = 104 # Remeber, must be between 1 - n\n",
    "\n",
    "M = RSA_encrypt(m, e, n)\n",
    "print(f\"Encrypted Message: {M}\")\n",
    "\n",
    "m1 = RSA_decrypt(M, d, n)\n",
    "print(f\"Decrypted Message: {m}\")"
   ]
  },
  {
   "cell_type": "code",
   "execution_count": 33,
   "id": "8c68e5f2",
   "metadata": {},
   "outputs": [],
   "source": [
    "class PairValEnc:\n",
    "    def __init__(self, p, q):\n",
    "        '''\n",
    "        ()\n",
    "\n",
    "                Parameters:\n",
    "                        ()\n",
    "\n",
    "                Returns:\n",
    "                        ()\n",
    "        '''\n",
    "        n = p * q\n",
    "        phi_n = (p - 1) * (q - 1)\n",
    "\n",
    "        found = False\n",
    "\n",
    "        while not found:\n",
    "            e = random.randint(1, phi_n)\n",
    "            if math.gcd(e, phi_n) == 1:\n",
    "                found = True\n",
    "\n",
    "        d = _inv_mult(e, phi_n)\n",
    "\n",
    "        self.n = n\n",
    "        self.phi_n = phi_n\n",
    "        self.e = e\n",
    "        self.d = d\n",
    "        \n",
    "        \n",
    "    def load(self, values, mapping):\n",
    "        '''\n",
    "        ()\n",
    "\n",
    "                Parameters:\n",
    "                        ()\n",
    "\n",
    "                Returns:\n",
    "                        ()\n",
    "        '''\n",
    "        self.values = values\n",
    "        self.mapping = mapping\n",
    "        self.inv_mapping = {v:k for k, v in mapping.items()}\n",
    "        \n",
    "    def encrypt(self, x):\n",
    "        '''\n",
    "        ()\n",
    "\n",
    "                Parameters:\n",
    "                        ()\n",
    "\n",
    "                Returns:\n",
    "                        ()\n",
    "        '''\n",
    "        if x in self.values:\n",
    "            return self._encrypt(self.mapping[x])\n",
    "    \n",
    "    def compare(self, x, y):\n",
    "        '''\n",
    "        ()\n",
    "\n",
    "                Parameters:\n",
    "                        ()\n",
    "\n",
    "                Returns:\n",
    "                        ()\n",
    "        '''\n",
    "        return self._cmp(x, y) == 1\n",
    "        \n",
    "    \n",
    "    def decrypt(self, x, d):\n",
    "        '''\n",
    "        ()\n",
    "\n",
    "                Parameters:\n",
    "                        ()\n",
    "\n",
    "                Returns:\n",
    "                        ()\n",
    "        '''\n",
    "        if d == self.d:\n",
    "            return self.inv_mapping[self._decrypt(x)]\n",
    "    \n",
    "    \n",
    "    def _encrypt(self, x):\n",
    "        '''\n",
    "        ()\n",
    "\n",
    "                Parameters:\n",
    "                        ()\n",
    "\n",
    "                Returns:\n",
    "                        ()\n",
    "        '''\n",
    "        return _mod_pow(x, self.e, self.n)\n",
    "    \n",
    "    \n",
    "    def _cmp(self, x, y):\n",
    "        '''\n",
    "        ()\n",
    "\n",
    "                Parameters:\n",
    "                        ()\n",
    "\n",
    "                Returns:\n",
    "                        ()\n",
    "        '''\n",
    "        return (x * y) % self.n\n",
    "    \n",
    "    \n",
    "    def _decrypt(self, x):\n",
    "        '''\n",
    "        ()\n",
    "\n",
    "                Parameters:\n",
    "                        ()\n",
    "\n",
    "                Returns:\n",
    "                        ()\n",
    "        '''\n",
    "        return _mod_pow(x, self.d, self.n)"
   ]
  },
  {
   "cell_type": "code",
   "execution_count": 5,
   "id": "a5cc4a1c",
   "metadata": {},
   "outputs": [
    {
     "name": "stdout",
     "output_type": "stream",
     "text": [
      "10 97\n"
     ]
    }
   ],
   "source": [
    "pve = PairValEnc(17,19)\n",
    "\n",
    "x = 10\n",
    "y = _inv_mult(10, pve.n)\n",
    "print(x,y)"
   ]
  },
  {
   "cell_type": "code",
   "execution_count": 7,
   "id": "bc905e8f",
   "metadata": {},
   "outputs": [
    {
     "data": {
      "text/plain": [
       "1"
      ]
     },
     "execution_count": 7,
     "metadata": {},
     "output_type": "execute_result"
    }
   ],
   "source": [
    "pve._cmp(x,y)"
   ]
  },
  {
   "cell_type": "code",
   "execution_count": 8,
   "id": "b21d1ba8",
   "metadata": {},
   "outputs": [],
   "source": [
    "x1 = pve._encrypt(x)\n",
    "y1 = pve._encrypt(y)"
   ]
  },
  {
   "cell_type": "code",
   "execution_count": 9,
   "id": "d0321880",
   "metadata": {},
   "outputs": [
    {
     "data": {
      "text/plain": [
       "249"
      ]
     },
     "execution_count": 9,
     "metadata": {},
     "output_type": "execute_result"
    }
   ],
   "source": [
    "x1"
   ]
  },
  {
   "cell_type": "code",
   "execution_count": 10,
   "id": "6aa04e66",
   "metadata": {},
   "outputs": [
    {
     "data": {
      "text/plain": [
       "48"
      ]
     },
     "execution_count": 10,
     "metadata": {},
     "output_type": "execute_result"
    }
   ],
   "source": [
    "y1"
   ]
  },
  {
   "cell_type": "code",
   "execution_count": 11,
   "id": "b49e81c3",
   "metadata": {},
   "outputs": [
    {
     "data": {
      "text/plain": [
       "1"
      ]
     },
     "execution_count": 11,
     "metadata": {},
     "output_type": "execute_result"
    }
   ],
   "source": [
    "pve._cmp(x1,y1)"
   ]
  },
  {
   "cell_type": "markdown",
   "id": "1f508c21",
   "metadata": {},
   "source": [
    "## Example for demonstration purposes\n",
    "\n",
    "Let's say we're writing an algorithm to put patients in touch with healthcare professionals who specialize in treating their infections. Assume that people only want doctors whose experience corresponds exactly to their cases, so as to get the most relevant treatment. Of course, people want their medical history to be kept secret from anyone who is *not* yet their doctor.\n",
    "\n",
    "For the sake of developing germane values, let us consider a system of 4 variables:\n",
    "- Patient or doctor?\n",
    "- Bacterial Infection?\n",
    "- Fungal Infection?\n",
    "- Viral Infection?\n",
    "\n",
    "Each of these variables will be represented by a binary digit. Note that the encoding for doctors is opposite that of patients. Thus, we have the following example encodings of people's healthcare status:\n",
    "- 1110 – doctor specializing in viral infection\n",
    "- 0110 – patient with both bacterial and fungal infection\n",
    "- 0010 – patient with only a fungal infection\n",
    "- 1111 – doctor who does not specialize in infections\n",
    "- 0000 – patient who does not have an infection\n",
    "\n",
    "Note that two people have matching status – indicating they should be paired as doctor and patient – if their bitwise values are different. This means that taking the bitwise exclusive-or operation of their status codes would return $1111_2$, or 15.\n",
    "\n",
    "Now, we have a mapping between people in our example scenario and X = {0,1,2,...,15}, and a function (bitwise xor) corresponding to the notion of a patient-doctor match. In order to utilize the pair-value encryption scheme, we must map X to Z/nZ, the set of integers modulo n, where n is the PVE modulus. We also require that |X| < phi(n), such that any pair which is equivalent in X/~ can be constructed to map to a pair of inverses modulo n. In this case, we take n = 33.\n",
    "\n",
    "The below code is used for creating a dictionary mapping X -> Z/33Z:"
   ]
  },
  {
   "cell_type": "code",
   "execution_count": 13,
   "id": "87250468",
   "metadata": {},
   "outputs": [],
   "source": [
    "X = list(range(16)) \n",
    "match = lambda x, y: int(x ^ y == 15)\n",
    "\n",
    "n = 33"
   ]
  },
  {
   "cell_type": "code",
   "execution_count": 14,
   "id": "988149e9",
   "metadata": {},
   "outputs": [],
   "source": [
    "# Step 1, find a list of matches in X/~\n",
    "X_matches = []\n",
    "x = len(X)\n",
    "for i in range(x):\n",
    "    for j in range(i,x):\n",
    "        if match(i,j):\n",
    "            X_matches.append((i,j))"
   ]
  },
  {
   "cell_type": "code",
   "execution_count": 15,
   "id": "91d81efe",
   "metadata": {},
   "outputs": [
    {
     "name": "stdout",
     "output_type": "stream",
     "text": [
      "[(0, 15), (1, 14), (2, 13), (3, 12), (4, 11), (5, 10), (6, 9), (7, 8)]\n"
     ]
    }
   ],
   "source": [
    "print(X_matches)"
   ]
  },
  {
   "cell_type": "code",
   "execution_count": 20,
   "id": "6f994716",
   "metadata": {},
   "outputs": [],
   "source": [
    "# Step 2, find |X/~| pairs of modular inverses from Z/33Z\n",
    "Z_matches = []\n",
    "\n",
    "i = 1\n",
    "while len(Z_matches) < len(X_matches):\n",
    "    j = _inv_mult(i,n)\n",
    "    \n",
    "    if j is None:\n",
    "        i += 1\n",
    "        continue\n",
    "        \n",
    "    Z_matches.append((i,j))\n",
    "    i += 1"
   ]
  },
  {
   "cell_type": "code",
   "execution_count": 21,
   "id": "c08e0797",
   "metadata": {},
   "outputs": [
    {
     "name": "stdout",
     "output_type": "stream",
     "text": [
      "[(1, 1), (2, 17), (4, 25), (5, 20), (7, 19), (8, 29), (10, 10), (13, 28)]\n"
     ]
    }
   ],
   "source": [
    "print(Z_matches)"
   ]
  },
  {
   "cell_type": "code",
   "execution_count": 22,
   "id": "edb39e5d",
   "metadata": {},
   "outputs": [],
   "source": [
    "# Step 3, map values over\n",
    "X_to_Z = {}\n",
    "\n",
    "for i, (x,y) in enumerate(X_matches):\n",
    "    X_to_Z[x] = Z_matches[i][0]\n",
    "    X_to_Z[y] = Z_matches[i][1]"
   ]
  },
  {
   "cell_type": "code",
   "execution_count": 23,
   "id": "167ae82c",
   "metadata": {},
   "outputs": [
    {
     "data": {
      "text/plain": [
       "{0: 1,\n",
       " 15: 1,\n",
       " 1: 2,\n",
       " 14: 17,\n",
       " 2: 4,\n",
       " 13: 25,\n",
       " 3: 5,\n",
       " 12: 20,\n",
       " 4: 7,\n",
       " 11: 19,\n",
       " 5: 8,\n",
       " 10: 29,\n",
       " 6: 10,\n",
       " 9: 10,\n",
       " 7: 13,\n",
       " 8: 28}"
      ]
     },
     "execution_count": 23,
     "metadata": {},
     "output_type": "execute_result"
    }
   ],
   "source": [
    "X_to_Z"
   ]
  },
  {
   "cell_type": "markdown",
   "id": "953cd850",
   "metadata": {},
   "source": [
    "Now, with this mapping in hand, we may demonstrate the real power of the PVE system.\n",
    "\n",
    "Let us assume patient A has a bacterial infection, giving them status code 0100, or 4. Patient A wants to be matched with a doctor specializing in treating bacterial infections.\n",
    "\n",
    "The system lists 3 doctors: X, Y, and Z, who – unbeknownst to patient A – are specialists in fungal/viral infections, bacterial infections, and cancer (e.g. no specialization with infectious diseases).\n",
    "\n",
    "With the system initialized and the mapping loaded, patient A can find their encrypted status code, as can all the doctors, from which they may share their statuses, compare, and match patient A with the right doctor."
   ]
  },
  {
   "cell_type": "code",
   "execution_count": 34,
   "id": "bf6eee46",
   "metadata": {},
   "outputs": [],
   "source": [
    "pve = PairValEnc(3,11) # Set n to 33 – in practice, these primes are chosen to be large and kept incredibly secret\n",
    "pve.load(X, X_to_Z) # Load the scenario's value mapping into Z/33Z"
   ]
  },
  {
   "cell_type": "code",
   "execution_count": 35,
   "id": "997e0950",
   "metadata": {},
   "outputs": [],
   "source": [
    "# A calculating their encrypted status code\n",
    "a_plain = 0b0100\n",
    "a_enc = pve.encrypt(a_plain)"
   ]
  },
  {
   "cell_type": "code",
   "execution_count": 36,
   "id": "545780ff",
   "metadata": {},
   "outputs": [],
   "source": [
    "# X calculating their encrypted status code\n",
    "x_plain = 0b1100\n",
    "x_enc = pve.encrypt(x_plain)"
   ]
  },
  {
   "cell_type": "code",
   "execution_count": 37,
   "id": "257fe72e",
   "metadata": {},
   "outputs": [],
   "source": [
    "# Y calculating their encrypted status code\n",
    "y_plain = 0b1011\n",
    "y_enc = pve.encrypt(y_plain)"
   ]
  },
  {
   "cell_type": "code",
   "execution_count": 38,
   "id": "c6837300",
   "metadata": {},
   "outputs": [],
   "source": [
    "# Z calculating their encrypted status code\n",
    "z_plain = 0b1111\n",
    "z_enc = pve.encrypt(z_plain)"
   ]
  },
  {
   "cell_type": "code",
   "execution_count": 39,
   "id": "1ce30d53",
   "metadata": {},
   "outputs": [
    {
     "name": "stdout",
     "output_type": "stream",
     "text": [
      "Match found with doctor Y\n"
     ]
    }
   ],
   "source": [
    "# A compares their code with that of the other doctors:\n",
    "doctors = {\"X\": x_enc, \"Y\": y_enc, \"Z\": z_enc}\n",
    "\n",
    "for doctor, enc in doctors.items():\n",
    "    if pve.compare(a_enc, enc):\n",
    "        print(f\"Match found with doctor {doctor}\")"
   ]
  },
  {
   "cell_type": "markdown",
   "id": "8776b221",
   "metadata": {},
   "source": [
    "At this point, given the simplicity and determinism of this system, both A and Y know respectively that Y is an bacterial infection specialist and A is a patient with a bacterial infection. However, note that this may not generally be the case, especially given a more flexible definition of a matching function."
   ]
  },
  {
   "cell_type": "code",
   "execution_count": null,
   "id": "5c4f7150",
   "metadata": {},
   "outputs": [],
   "source": []
  }
 ],
 "metadata": {
  "kernelspec": {
   "display_name": "Python 3",
   "language": "python",
   "name": "python3"
  },
  "language_info": {
   "codemirror_mode": {
    "name": "ipython",
    "version": 3
   },
   "file_extension": ".py",
   "mimetype": "text/x-python",
   "name": "python",
   "nbconvert_exporter": "python",
   "pygments_lexer": "ipython3",
   "version": "3.8.8"
  }
 },
 "nbformat": 4,
 "nbformat_minor": 5
}
